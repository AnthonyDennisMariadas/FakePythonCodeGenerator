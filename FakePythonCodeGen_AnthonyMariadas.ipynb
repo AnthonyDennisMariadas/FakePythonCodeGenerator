{
  "nbformat": 4,
  "nbformat_minor": 0,
  "metadata": {
    "colab": {
      "provenance": []
    },
    "kernelspec": {
      "name": "python3",
      "display_name": "Python 3"
    },
    "language_info": {
      "name": "python"
    }
  },
  "cells": [
    {
      "cell_type": "markdown",
      "source": [
        "#  RNN/LSTM model for generating fake Python code"
      ],
      "metadata": {
        "id": "tKbK9bQ6g6Uy"
      }
    },
    {
      "cell_type": "markdown",
      "source": [
        "Setting up a basic framework using TensorFlow's Keras API to create a Sequential model with LSTM, Dense, and Embedding layers. This kind of setup is commonly used for sequence-based modeling tasks like text generation, sentiment analysis, or time series prediction."
      ],
      "metadata": {
        "id": "0bZSE1fsfgyj"
      }
    },
    {
      "cell_type": "code",
      "execution_count": null,
      "metadata": {
        "id": "R0AW65JOSuxN"
      },
      "outputs": [],
      "source": [
        "import tensorflow as tf\n",
        "from tensorflow.keras.layers import LSTM, Dense, Embedding\n",
        "from tensorflow.keras.models import Sequential\n",
        "import numpy as np"
      ]
    },
    {
      "cell_type": "markdown",
      "source": [
        "A list of Python code snippets as strings"
      ],
      "metadata": {
        "id": "8NumQqW3fzNq"
      }
    },
    {
      "cell_type": "code",
      "source": [
        "python_code = [\n",
        "    \"def add(a, b): return a + b\",\n",
        "    \"def subtract(a, b): return a - b\",\n",
        "    \"def multiply(a, b): return a * b\",\n",
        "    \"x = 5\\ny = 10\\nresult = x + y\",\n",
        "    \"my_list = [1, 2, 3, 4, 5]\\nfiltered_list = [num for num in my_list if num % 2 == 0]\",\n",
        "    \"text = 'Hello, World!'\\nreversed_text = text[::-1]\",\n",
        "    \"num = 10\\nfactorial = 1\\nfor i in range(1, num + 1):\\n    factorial *= i\",\n",
        "    \"students = {'Alice': 20, 'Bob': 22, 'Charlie': 21}\\nages = [age for age in students.values()]\",\n",
        "    \"class Dog:\\n    def __init__(self, name, breed):\\n        self.name = name\\n        self.breed = breed\\n    def bark(self):\\n        return 'Woof!'\",\n",
        "    \"def factorial(n):\\n    if n == 0 or n == 1:\\n        return 1\\n    else:\\n        return n * factorial(n-1)\",\n",
        "    \"def fibonacci(n):\\n    a, b = 0, 1\\n    result = []\\n    while a < n:\\n        result.append(a)\\n        a, b = b, a + b\\n    return result\",\n",
        "    \"def is_prime(n):\\n    if n <= 1:\\n        return False\\n    for i in range(2, int(n**0.5) + 1):\\n        if n % i == 0:\\n            return False\\n    return True\",\n",
        "    \"def greet(name):\\n    print('Hello, ' + name + '! Welcome to the world of Python.')\",\n",
        "    \"def check_palindrome(s):\\n    return s == s[::-1]\",\n",
        "    \"def calculate_area_circle(radius):\\n    return 3.1416 * radius ** 2\",\n",
        "    \"result = 5 * 3 + 2\",\n",
        "    \"my_tuple = (1, 2, 3, 4, 5)\\ndouble_values = [2 * value for value in my_tuple]\",\n",
        "    \"text = 'Python is fun!'\\nupper_text = text.upper()\",\n",
        "    \"numbers = [1, 2, 3, 4, 5]\\nproduct = 1\\nfor num in numbers:\\n    product *= num\",\n",
        "    \"my_dict = {'a': 1, 'b': 2, 'c': 3}\\nkeys = [key for key in my_dict.keys()]\",\n",
        "    \"class Rectangle:\\n    def __init__(self, width, height):\\n        self.width = width\\n        self.height = height\\n    def calculate_area(self):\\n        return self.width * self.height\",\n",
        "]"
      ],
      "metadata": {
        "id": "dZ1gEPHaSwdB"
      },
      "execution_count": null,
      "outputs": []
    },
    {
      "cell_type": "markdown",
      "source": [
        " Utilizing TensorFlow's Keras Tokenizer to preprocess a list of Python code snippets. The Tokenizer is being used to convert the text data (Python code in this case) into numerical sequences suitable for training neural networks."
      ],
      "metadata": {
        "id": "OXSk4hYff7rx"
      }
    },
    {
      "cell_type": "code",
      "source": [
        "tokenizer = tf.keras.preprocessing.text.Tokenizer(filters='!\"#$%&()*+,-./:;<=>?@[\\\\]^_`{|}~\\t\\n', lower=True)\n",
        "tokenizer.fit_on_texts(python_code)\n",
        "total_words = len(tokenizer.word_index) + 1"
      ],
      "metadata": {
        "id": "BoklINYOS8bm"
      },
      "execution_count": null,
      "outputs": []
    },
    {
      "cell_type": "markdown",
      "source": [
        " Generating sequences of tokens from the preprocessed Python code snippets using the previously created tokenizer. These sequences are created in a way that each sequence includes an increasing number of tokens from the original code snippets."
      ],
      "metadata": {
        "id": "C6yFU2-Gf--J"
      }
    },
    {
      "cell_type": "code",
      "source": [
        "input_sequences = []\n",
        "for line in python_code:\n",
        "    token_list = tokenizer.texts_to_sequences([line])[0]\n",
        "    for i in range(1, len(token_list)):\n",
        "        n_gram_sequence = token_list[:i+1]\n",
        "        input_sequences.append(n_gram_sequence)\n",
        "\n",
        "max_sequence_len = max([len(seq) for seq in input_sequences])\n",
        "input_sequences = np.array(tf.keras.preprocessing.sequence.pad_sequences(input_sequences, maxlen=max_sequence_len, padding='pre'))\n"
      ],
      "metadata": {
        "id": "sEwXEwJLS-Rb"
      },
      "execution_count": null,
      "outputs": []
    },
    {
      "cell_type": "markdown",
      "source": [
        " Preparing the input sequences (X) and their corresponding labels (y) to be used for training a neural network model."
      ],
      "metadata": {
        "id": "LD22nkcQgISa"
      }
    },
    {
      "cell_type": "code",
      "source": [
        "# Create input sequences and labels\n",
        "X = input_sequences[:, :-1]\n",
        "y = tf.keras.utils.to_categorical(input_sequences[:, -1], num_classes=total_words)"
      ],
      "metadata": {
        "id": "QDUkK1YDS-ZD"
      },
      "execution_count": null,
      "outputs": []
    },
    {
      "cell_type": "markdown",
      "source": [
        "Defines an LSTM-based neural network model using TensorFlow's Keras API."
      ],
      "metadata": {
        "id": "hCYJhAiigSWc"
      }
    },
    {
      "cell_type": "code",
      "source": [
        "# Define the LSTM model\n",
        "model = Sequential()\n",
        "model.add(Embedding(total_words, 100, input_length=max_sequence_len-1))\n",
        "model.add(LSTM(150))\n",
        "model.add(Dense(total_words, activation='softmax'))\n",
        "model.compile(loss='categorical_crossentropy', optimizer='adam', metrics=['accuracy'])"
      ],
      "metadata": {
        "id": "_2PUw5BhS-dX"
      },
      "execution_count": null,
      "outputs": []
    },
    {
      "cell_type": "markdown",
      "source": [
        " Training the defined neural network model using the input sequences (X) and their corresponding labels (y)."
      ],
      "metadata": {
        "id": "yoPIcUzXgZsw"
      }
    },
    {
      "cell_type": "code",
      "source": [
        "model.fit(X, y, epochs=100, verbose=1)"
      ],
      "metadata": {
        "colab": {
          "base_uri": "https://localhost:8080/"
        },
        "id": "8OAYZPThS-gx",
        "outputId": "17c13369-1a79-4409-b37e-15eb13db1fda"
      },
      "execution_count": null,
      "outputs": [
        {
          "output_type": "stream",
          "name": "stdout",
          "text": [
            "Epoch 1/100\n",
            "9/9 [==============================] - 2s 25ms/step - loss: 4.5344 - accuracy: 0.0270\n",
            "Epoch 2/100\n",
            "9/9 [==============================] - 0s 26ms/step - loss: 4.4331 - accuracy: 0.0579\n",
            "Epoch 3/100\n",
            "9/9 [==============================] - 0s 24ms/step - loss: 4.2570 - accuracy: 0.0386\n",
            "Epoch 4/100\n",
            "9/9 [==============================] - 0s 27ms/step - loss: 4.1615 - accuracy: 0.0695\n",
            "Epoch 5/100\n",
            "9/9 [==============================] - 0s 26ms/step - loss: 4.1458 - accuracy: 0.0618\n",
            "Epoch 6/100\n",
            "9/9 [==============================] - 0s 25ms/step - loss: 4.1257 - accuracy: 0.0618\n",
            "Epoch 7/100\n",
            "9/9 [==============================] - 0s 27ms/step - loss: 4.1010 - accuracy: 0.0618\n",
            "Epoch 8/100\n",
            "9/9 [==============================] - 0s 27ms/step - loss: 4.0706 - accuracy: 0.0656\n",
            "Epoch 9/100\n",
            "9/9 [==============================] - 0s 25ms/step - loss: 4.0184 - accuracy: 0.1042\n",
            "Epoch 10/100\n",
            "9/9 [==============================] - 0s 25ms/step - loss: 3.9422 - accuracy: 0.1467\n",
            "Epoch 11/100\n",
            "9/9 [==============================] - 0s 49ms/step - loss: 3.8567 - accuracy: 0.0888\n",
            "Epoch 12/100\n",
            "9/9 [==============================] - 0s 26ms/step - loss: 3.7256 - accuracy: 0.1351\n",
            "Epoch 13/100\n",
            "9/9 [==============================] - 0s 46ms/step - loss: 3.5868 - accuracy: 0.1622\n",
            "Epoch 14/100\n",
            "9/9 [==============================] - 0s 25ms/step - loss: 3.4535 - accuracy: 0.1815\n",
            "Epoch 15/100\n",
            "9/9 [==============================] - 0s 26ms/step - loss: 3.3423 - accuracy: 0.2008\n",
            "Epoch 16/100\n",
            "9/9 [==============================] - 0s 24ms/step - loss: 3.2246 - accuracy: 0.2046\n",
            "Epoch 17/100\n",
            "9/9 [==============================] - 0s 24ms/step - loss: 3.1289 - accuracy: 0.1969\n",
            "Epoch 18/100\n",
            "9/9 [==============================] - 0s 28ms/step - loss: 3.0416 - accuracy: 0.2162\n",
            "Epoch 19/100\n",
            "9/9 [==============================] - 0s 26ms/step - loss: 2.9350 - accuracy: 0.2201\n",
            "Epoch 20/100\n",
            "9/9 [==============================] - 0s 26ms/step - loss: 2.8450 - accuracy: 0.2432\n",
            "Epoch 21/100\n",
            "9/9 [==============================] - 0s 25ms/step - loss: 2.7722 - accuracy: 0.2625\n",
            "Epoch 22/100\n",
            "9/9 [==============================] - 0s 26ms/step - loss: 2.6995 - accuracy: 0.2432\n",
            "Epoch 23/100\n",
            "9/9 [==============================] - 0s 26ms/step - loss: 2.5925 - accuracy: 0.2780\n",
            "Epoch 24/100\n",
            "9/9 [==============================] - 0s 27ms/step - loss: 2.5286 - accuracy: 0.2780\n",
            "Epoch 25/100\n",
            "9/9 [==============================] - 0s 25ms/step - loss: 2.4652 - accuracy: 0.2934\n",
            "Epoch 26/100\n",
            "9/9 [==============================] - 0s 26ms/step - loss: 2.3883 - accuracy: 0.3166\n",
            "Epoch 27/100\n",
            "9/9 [==============================] - 0s 25ms/step - loss: 2.3223 - accuracy: 0.3282\n",
            "Epoch 28/100\n",
            "9/9 [==============================] - 0s 27ms/step - loss: 2.2487 - accuracy: 0.3591\n",
            "Epoch 29/100\n",
            "9/9 [==============================] - 0s 37ms/step - loss: 2.2017 - accuracy: 0.3514\n",
            "Epoch 30/100\n",
            "9/9 [==============================] - 0s 47ms/step - loss: 2.1605 - accuracy: 0.3398\n",
            "Epoch 31/100\n",
            "9/9 [==============================] - 0s 44ms/step - loss: 2.0890 - accuracy: 0.4015\n",
            "Epoch 32/100\n",
            "9/9 [==============================] - 0s 40ms/step - loss: 2.0219 - accuracy: 0.3977\n",
            "Epoch 33/100\n",
            "9/9 [==============================] - 0s 24ms/step - loss: 1.9510 - accuracy: 0.4170\n",
            "Epoch 34/100\n",
            "9/9 [==============================] - 0s 27ms/step - loss: 1.9026 - accuracy: 0.4324\n",
            "Epoch 35/100\n",
            "9/9 [==============================] - 0s 25ms/step - loss: 1.8414 - accuracy: 0.4402\n",
            "Epoch 36/100\n",
            "9/9 [==============================] - 0s 25ms/step - loss: 1.8010 - accuracy: 0.4595\n",
            "Epoch 37/100\n",
            "9/9 [==============================] - 0s 27ms/step - loss: 1.7467 - accuracy: 0.4749\n",
            "Epoch 38/100\n",
            "9/9 [==============================] - 0s 26ms/step - loss: 1.7079 - accuracy: 0.4826\n",
            "Epoch 39/100\n",
            "9/9 [==============================] - 0s 26ms/step - loss: 1.6575 - accuracy: 0.5058\n",
            "Epoch 40/100\n",
            "9/9 [==============================] - 0s 25ms/step - loss: 1.5923 - accuracy: 0.5753\n",
            "Epoch 41/100\n",
            "9/9 [==============================] - 0s 23ms/step - loss: 1.5687 - accuracy: 0.5444\n",
            "Epoch 42/100\n",
            "9/9 [==============================] - 0s 26ms/step - loss: 1.5109 - accuracy: 0.5637\n",
            "Epoch 43/100\n",
            "9/9 [==============================] - 0s 27ms/step - loss: 1.4743 - accuracy: 0.5637\n",
            "Epoch 44/100\n",
            "9/9 [==============================] - 0s 26ms/step - loss: 1.4397 - accuracy: 0.5869\n",
            "Epoch 45/100\n",
            "9/9 [==============================] - 0s 27ms/step - loss: 1.4177 - accuracy: 0.5714\n",
            "Epoch 46/100\n",
            "9/9 [==============================] - 0s 24ms/step - loss: 1.3821 - accuracy: 0.6023\n",
            "Epoch 47/100\n",
            "9/9 [==============================] - 0s 25ms/step - loss: 1.3477 - accuracy: 0.6023\n",
            "Epoch 48/100\n",
            "9/9 [==============================] - 0s 25ms/step - loss: 1.3053 - accuracy: 0.6255\n",
            "Epoch 49/100\n",
            "9/9 [==============================] - 0s 26ms/step - loss: 1.2524 - accuracy: 0.6371\n",
            "Epoch 50/100\n",
            "9/9 [==============================] - 0s 25ms/step - loss: 1.2043 - accuracy: 0.6795\n",
            "Epoch 51/100\n",
            "9/9 [==============================] - 0s 26ms/step - loss: 1.1702 - accuracy: 0.7181\n",
            "Epoch 52/100\n",
            "9/9 [==============================] - 0s 25ms/step - loss: 1.1388 - accuracy: 0.7259\n",
            "Epoch 53/100\n",
            "9/9 [==============================] - 0s 26ms/step - loss: 1.1223 - accuracy: 0.7143\n",
            "Epoch 54/100\n",
            "9/9 [==============================] - 0s 25ms/step - loss: 1.0950 - accuracy: 0.7104\n",
            "Epoch 55/100\n",
            "9/9 [==============================] - 0s 25ms/step - loss: 1.0732 - accuracy: 0.7413\n",
            "Epoch 56/100\n",
            "9/9 [==============================] - 0s 25ms/step - loss: 1.0401 - accuracy: 0.7645\n",
            "Epoch 57/100\n",
            "9/9 [==============================] - 0s 25ms/step - loss: 1.0192 - accuracy: 0.7490\n",
            "Epoch 58/100\n",
            "9/9 [==============================] - 0s 27ms/step - loss: 0.9887 - accuracy: 0.7838\n",
            "Epoch 59/100\n",
            "9/9 [==============================] - 0s 26ms/step - loss: 0.9827 - accuracy: 0.7761\n",
            "Epoch 60/100\n",
            "9/9 [==============================] - 0s 27ms/step - loss: 0.9691 - accuracy: 0.7799\n",
            "Epoch 61/100\n",
            "9/9 [==============================] - 0s 24ms/step - loss: 0.9221 - accuracy: 0.8108\n",
            "Epoch 62/100\n",
            "9/9 [==============================] - 0s 25ms/step - loss: 0.8811 - accuracy: 0.8340\n",
            "Epoch 63/100\n",
            "9/9 [==============================] - 0s 25ms/step - loss: 0.8744 - accuracy: 0.8147\n",
            "Epoch 64/100\n",
            "9/9 [==============================] - 0s 25ms/step - loss: 0.8634 - accuracy: 0.8147\n",
            "Epoch 65/100\n",
            "9/9 [==============================] - 0s 25ms/step - loss: 0.8435 - accuracy: 0.8378\n",
            "Epoch 66/100\n",
            "9/9 [==============================] - 0s 25ms/step - loss: 0.8116 - accuracy: 0.8494\n",
            "Epoch 67/100\n",
            "9/9 [==============================] - 0s 25ms/step - loss: 0.7829 - accuracy: 0.8764\n",
            "Epoch 68/100\n",
            "9/9 [==============================] - 0s 26ms/step - loss: 0.7625 - accuracy: 0.8764\n",
            "Epoch 69/100\n",
            "9/9 [==============================] - 0s 27ms/step - loss: 0.7450 - accuracy: 0.8687\n",
            "Epoch 70/100\n",
            "9/9 [==============================] - 0s 26ms/step - loss: 0.7259 - accuracy: 0.8687\n",
            "Epoch 71/100\n",
            "9/9 [==============================] - 0s 26ms/step - loss: 0.7061 - accuracy: 0.8764\n",
            "Epoch 72/100\n",
            "9/9 [==============================] - 0s 24ms/step - loss: 0.6757 - accuracy: 0.8958\n",
            "Epoch 73/100\n",
            "9/9 [==============================] - 0s 26ms/step - loss: 0.6585 - accuracy: 0.9035\n",
            "Epoch 74/100\n",
            "9/9 [==============================] - 0s 28ms/step - loss: 0.6397 - accuracy: 0.9151\n",
            "Epoch 75/100\n",
            "9/9 [==============================] - 0s 44ms/step - loss: 0.6311 - accuracy: 0.8958\n",
            "Epoch 76/100\n",
            "9/9 [==============================] - 0s 46ms/step - loss: 0.6131 - accuracy: 0.8919\n",
            "Epoch 77/100\n",
            "9/9 [==============================] - 0s 43ms/step - loss: 0.5939 - accuracy: 0.8958\n",
            "Epoch 78/100\n",
            "9/9 [==============================] - 0s 33ms/step - loss: 0.5741 - accuracy: 0.9035\n",
            "Epoch 79/100\n",
            "9/9 [==============================] - 0s 25ms/step - loss: 0.5680 - accuracy: 0.8996\n",
            "Epoch 80/100\n",
            "9/9 [==============================] - 0s 27ms/step - loss: 0.5532 - accuracy: 0.9073\n",
            "Epoch 81/100\n",
            "9/9 [==============================] - 0s 25ms/step - loss: 0.5402 - accuracy: 0.9112\n",
            "Epoch 82/100\n",
            "9/9 [==============================] - 0s 28ms/step - loss: 0.5230 - accuracy: 0.9035\n",
            "Epoch 83/100\n",
            "9/9 [==============================] - 0s 27ms/step - loss: 0.5110 - accuracy: 0.9189\n",
            "Epoch 84/100\n",
            "9/9 [==============================] - 0s 27ms/step - loss: 0.5015 - accuracy: 0.9305\n",
            "Epoch 85/100\n",
            "9/9 [==============================] - 0s 26ms/step - loss: 0.4811 - accuracy: 0.9266\n",
            "Epoch 86/100\n",
            "9/9 [==============================] - 0s 26ms/step - loss: 0.4653 - accuracy: 0.9228\n",
            "Epoch 87/100\n",
            "9/9 [==============================] - 0s 26ms/step - loss: 0.4529 - accuracy: 0.9228\n",
            "Epoch 88/100\n",
            "9/9 [==============================] - 0s 26ms/step - loss: 0.4504 - accuracy: 0.9305\n",
            "Epoch 89/100\n",
            "9/9 [==============================] - 0s 25ms/step - loss: 0.4572 - accuracy: 0.9228\n",
            "Epoch 90/100\n",
            "9/9 [==============================] - 0s 26ms/step - loss: 0.4460 - accuracy: 0.9344\n",
            "Epoch 91/100\n",
            "9/9 [==============================] - 0s 24ms/step - loss: 0.4306 - accuracy: 0.9305\n",
            "Epoch 92/100\n",
            "9/9 [==============================] - 0s 26ms/step - loss: 0.4286 - accuracy: 0.9344\n",
            "Epoch 93/100\n",
            "9/9 [==============================] - 0s 26ms/step - loss: 0.4295 - accuracy: 0.9344\n",
            "Epoch 94/100\n",
            "9/9 [==============================] - 0s 26ms/step - loss: 0.4207 - accuracy: 0.9382\n",
            "Epoch 95/100\n",
            "9/9 [==============================] - 0s 27ms/step - loss: 0.4187 - accuracy: 0.9189\n",
            "Epoch 96/100\n",
            "9/9 [==============================] - 0s 27ms/step - loss: 0.4021 - accuracy: 0.9305\n",
            "Epoch 97/100\n",
            "9/9 [==============================] - 0s 26ms/step - loss: 0.4066 - accuracy: 0.9344\n",
            "Epoch 98/100\n",
            "9/9 [==============================] - 0s 26ms/step - loss: 0.3949 - accuracy: 0.9344\n",
            "Epoch 99/100\n",
            "9/9 [==============================] - 0s 26ms/step - loss: 0.3724 - accuracy: 0.9266\n",
            "Epoch 100/100\n",
            "9/9 [==============================] - 0s 26ms/step - loss: 0.3693 - accuracy: 0.9305\n"
          ]
        },
        {
          "output_type": "execute_result",
          "data": {
            "text/plain": [
              "<keras.src.callbacks.History at 0x7e4362929d20>"
            ]
          },
          "metadata": {},
          "execution_count": 21
        }
      ]
    },
    {
      "cell_type": "markdown",
      "source": [
        "This generate_code function takes in a seed text (initial text), a number of next_words to generate, the trained model, and max_sequence_len as inputs. The function generates new code based on the seed text using the trained model."
      ],
      "metadata": {
        "id": "pEaLXq4KgnR0"
      }
    },
    {
      "cell_type": "code",
      "source": [
        "def generate_code(seed_text, next_words, model, max_sequence_len):\n",
        "    for _ in range(next_words):\n",
        "        token_list = tokenizer.texts_to_sequences([seed_text])[0]\n",
        "        token_list = tf.keras.preprocessing.sequence.pad_sequences([token_list], maxlen=max_sequence_len-1, padding='pre')\n",
        "        predicted_probs = model.predict(token_list)[0]\n",
        "        predicted = np.argmax(predicted_probs)\n",
        "        output_word = \"\"\n",
        "        for word, index in tokenizer.word_index.items():\n",
        "            if index == predicted:\n",
        "                output_word = word\n",
        "                break\n",
        "        seed_text += \" \" + output_word\n",
        "    return seed_text\n"
      ],
      "metadata": {
        "id": "lnYoEoCqS-kF"
      },
      "execution_count": null,
      "outputs": []
    },
    {
      "cell_type": "markdown",
      "source": [
        "The provided code generates Python code using the trained model. It initializes the generation process with a seed text and generates additional words based on the model's predictions."
      ],
      "metadata": {
        "id": "SF4mt2GAgvRu"
      }
    },
    {
      "cell_type": "code",
      "source": [
        "# Generate code using the trained model\n",
        "generated_code = generate_code(\"add\", 10, model, max_sequence_len)\n",
        "print(\"Generated Python code:\")\n",
        "print(generated_code)"
      ],
      "metadata": {
        "colab": {
          "base_uri": "https://localhost:8080/"
        },
        "id": "1_R8w6g4S-nf",
        "outputId": "57a2cbd8-1e6e-4765-e3a9-9d042337665f"
      },
      "execution_count": null,
      "outputs": [
        {
          "output_type": "stream",
          "name": "stdout",
          "text": [
            "1/1 [==============================] - 0s 16ms/step\n",
            "1/1 [==============================] - 0s 16ms/step\n",
            "1/1 [==============================] - 0s 17ms/step\n",
            "1/1 [==============================] - 0s 17ms/step\n",
            "1/1 [==============================] - 0s 16ms/step\n",
            "1/1 [==============================] - 0s 18ms/step\n",
            "1/1 [==============================] - 0s 16ms/step\n",
            "1/1 [==============================] - 0s 16ms/step\n",
            "1/1 [==============================] - 0s 20ms/step\n",
            "1/1 [==============================] - 0s 17ms/step\n",
            "Generated Python code:\n",
            "add a b return a b return result a n result\n"
          ]
        }
      ]
    }
  ]
}